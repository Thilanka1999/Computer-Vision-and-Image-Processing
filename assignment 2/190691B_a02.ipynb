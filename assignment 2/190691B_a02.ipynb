{
 "cells": [
  {
   "cell_type": "code",
   "execution_count": 46,
   "metadata": {},
   "outputs": [
    {
     "name": "stdout",
     "output_type": "stream",
     "text": [
      "50\n"
     ]
    },
    {
     "data": {
      "image/png": "[encoded data removed]",
      "text/plain": [
       "<Figure size 432x288 with 1 Axes>"
      ]
     },
     "metadata": {
      "needs_background": "light"
     },
     "output_type": "display_data"
    }
   ],
   "source": [
    "import numpy as np\n",
    "from scipy . optimize import minimize\n",
    "from scipy import linalg\n",
    "import matplotlib . pyplot as plt\n",
    "\n",
    "np.random.seed(45)\n",
    "N = 100\n",
    "half_n = N//2\n",
    "r = 10\n",
    "s = r/16\n",
    "t = np.random.uniform(0, 2*np.pi, half_n)\n",
    "\n",
    "n = s*np.random.randn(half_n)\n",
    "t_ =\n",
    "\n",
    "x , y = (r + n)*np.cos(t), (r + n)*np.sin(t)\n",
    "X_circ = np.hstack((x.reshape(half_n, 1), y.reshape(half_n, 1)))\n",
    "\n",
    "plt.scatter(x, y)\n",
    "\n",
    "m, b = -1, 2\n",
    "x = np.linspace(-12, 12, half_n)\n",
    "y = m*x + b + s*np.random.randn(half_n)\n",
    "X_line = np.hstack((x.reshape(half_n, 1), y.reshape(half_n ,1)))\n",
    "X = np.vstack((X_circ, X_line))\n",
    "\n",
    "# print(X)\n",
    "# print(y)"
   ]
  },
  {
   "cell_type": "code",
   "execution_count": 44,
   "metadata": {},
   "outputs": [
    {
     "name": "stdout",
     "output_type": "stream",
     "text": [
      "[-4.653061224489796, 7.109365206796632] [10.53061224489796, -7.513479857333103] [11.020408163265305, -8.818840399837239]\n",
      "31.159079401596884 25.943099035470134\n",
      "30.720848886070925 25.943099035470134\n",
      "30.08358370652336 25.943099035470134\n",
      "29.06087553785979 25.943099035470134\n",
      "29.394939723909257 25.943099035470134\n",
      "28.746396533309955 25.943099035470134\n",
      "28.46899469664241 25.943099035470134\n",
      "27.648104818111065 25.943099035470134\n",
      "28.250064390754805 25.943099035470134\n",
      "27.738640283498814 25.943099035470134\n",
      "25.685280932426895 25.943099035470134\n",
      "27.373579004799918 25.943099035470134\n",
      "26.508360009095757 25.943099035470134\n",
      "26.37951626317703 25.943099035470134\n",
      "26.1652451744021 25.943099035470134\n",
      "25.943099035470134 25.943099035470134\n",
      "24.5428642806567 25.943099035470134\n",
      "25.8403353166081 25.943099035470134\n",
      "24.323022692507788 25.943099035470134\n",
      "24.303841219980885 25.943099035470134\n",
      "24.70650515138099 25.943099035470134\n",
      "23.16235338468881 25.943099035470134\n",
      "24.661706769518553 25.943099035470134\n",
      "23.408592122890127 25.943099035470134\n",
      "23.333236780726754 25.943099035470134\n",
      "24.735008284527318 25.943099035470134\n",
      "22.60288823658635 25.943099035470134\n",
      "22.436098701145426 25.943099035470134\n",
      "23.418558699500515 25.943099035470134\n",
      "22.733776043171538 25.943099035470134\n",
      "22.757520710974454 25.943099035470134\n",
      "23.097156555838794 25.943099035470134\n",
      "23.335273024339575 25.943099035470134\n",
      "23.154037791795165 25.943099035470134\n",
      "23.53571683337347 25.943099035470134\n",
      "22.888878449589175 25.943099035470134\n",
      "24.01075437296579 25.943099035470134\n",
      "23.01660115133633 25.943099035470134\n",
      "23.815854310857656 25.943099035470134\n",
      "24.512895957669574 25.943099035470134\n",
      "23.958422354659678 25.943099035470134\n",
      "24.604593543213536 25.943099035470134\n",
      "24.253359184327593 25.943099035470134\n",
      "24.430903508245645 25.943099035470134\n",
      "24.598922158650588 25.943099035470134\n",
      "25.176276948454287 25.943099035470134\n",
      "25.94309903547013 25.943099035470134\n",
      "25.943099035470134 25.943099035470134\n",
      "26.326118919895904 25.943099035470134\n",
      "27.096120710219367 25.943099035470134\n",
      "27\n"
     ]
    }
   ],
   "source": [
    "def define_circle(p1, p2, p3):\n",
    "    \"\"\"\n",
    "    Returns the center and radius of the circle passing the given 3 points.\n",
    "    In case the 3 points form a line, returns (None, infinity).\n",
    "    \"\"\"\n",
    "    temp = p2[0] * p2[0] + p2[1] * p2[1]\n",
    "    bc = (p1[0] * p1[0] + p1[1] * p1[1] - temp) / 2\n",
    "    cd = (temp - p3[0] * p3[0] - p3[1] * p3[1]) / 2\n",
    "    det = (p1[0] - p2[0]) * (p2[1] - p3[1]) - (p2[0] - p3[0]) * (p1[1] - p2[1])\n",
    "\n",
    "    if abs(det) < 1.0e-6:\n",
    "        return (None, np.inf)\n",
    "\n",
    "    # Center of circle\n",
    "    cx = (bc*(p2[1] - p3[1]) - cd*(p1[1] - p2[1])) / det\n",
    "    cy = ((p1[0] - p2[0]) * cd - (p2[0] - p3[0]) * bc) / det\n",
    "\n",
    "    radius = np.sqrt((cx - p1[0])**2 + (cy - p1[1])**2)\n",
    "    return ((cx, cy), radius)\n",
    "\n",
    "for i in range(half_n):\n",
    "    ind1 = np.random.randint(0, half_n)\n",
    "    ind2 = np.random.randint(0, half_n)\n",
    "    ind3 = np.random.randint(0, half_n)\n",
    "    c1 = [x[ind1], y[ind1]]\n",
    "    c2 = [x[ind2], y[ind2]]\n",
    "    c3 = [x[ind3], y[ind3]]\n",
    "    print(c1, c2, c3)\n",
    "    \n",
    "    cen, rad = define_circle(c1, c2, c3)\n",
    "    k = 0\n",
    "    for i in range(half_n):\n",
    "        a, b = x[i], y[i]\n",
    "        dis2 = np.sqrt((a-cen[0])**2 + (b - cen[1])**2)\n",
    "        r = rad\n",
    "        \n",
    "        print(dis2, r)\n",
    "        if r-t_ < dis2 < r + t_:\n",
    "            k+=1\n",
    "    print(k)\n",
    "\n",
    "    break"
   ]
  },
  {
   "cell_type": "code",
   "execution_count": 33,
   "metadata": {},
   "outputs": [
    {
     "name": "stdout",
     "output_type": "stream",
     "text": [
      "4\n"
     ]
    }
   ],
   "source": [
    "a = [1, 3, 4, 5, 5, 9, 8, 4, 6]\n",
    "i = np.random.randint(0, len(a)-1)\n",
    "print(i)"
   ]
  }
 ],
 "metadata": {
  "interpreter": {
   "hash": "71a9e55ea9a4eb0ec0516cb2ecfe4cae1c555e7d5ef5085da43b83b5c34d74bd"
  },
  "kernelspec": {
   "display_name": "Python 3.10.2 64-bit (system)",
   "language": "python",
   "name": "python3"
  },
  "language_info": {
   "codemirror_mode": {
    "name": "ipython",
    "version": 3
   },
   "file_extension": ".py",
   "mimetype": "text/x-python",
   "name": "python",
   "nbconvert_exporter": "python",
   "pygments_lexer": "ipython3",
   "version": "3.10.2"
  },
  "orig_nbformat": 4
 },
 "nbformat": 4,
 "nbformat_minor": 2
}
