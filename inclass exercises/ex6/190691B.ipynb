{
 "cells": [
  {
   "cell_type": "code",
   "execution_count": 4,
   "metadata": {},
   "outputs": [],
   "source": [
    "import cv2 as cv\n",
    "import numpy as np\n",
    "\n",
    "im = cv.imread(r'sudoku.png', cv.IMREAD_COLOR)\n",
    "assert im is not None\n",
    "\n",
    "gray= cv.cvtColor(im, cv.COLOR_RGB2GRAY)\n",
    "edge = cv.Canny(gray, 50, 150, apertureSize=3)\n",
    "lines = cv.HoughLines(edge, 1, np.pi/180, 200)\n",
    "\n",
    "for line in lines:\n",
    "    rho, theta = line[0]\n",
    "    a = np.cos(theta)\n",
    "    b = np.sin(theta)\n",
    "    x0, yo = a*rho, b*rho\n",
    "    x1, y1 = int(x0 + 1000*(-b)), int(x0 + 1000*(a))\n",
    "    x2, y2 = int(x0 - 1000*(-b)), int(x0 - 1000*(a))\n",
    "    cv.line(im, (x1, y1), (x2, y2), (0, 0, 255), 2)\n",
    "\n",
    "cv.namedWindow(\"Image\", cv.WINDOW_NORMAL)\n",
    "cv.imshow(\"Image\", gray)\n",
    "cv.waitKey()\n",
    "cv.imshow(\"Image\", im)\n",
    "cv.waitKey()\n",
    "cv.destroyAllWindows()"
   ]
  },
  {
   "cell_type": "code",
   "execution_count": 12,
   "metadata": {},
   "outputs": [],
   "source": [
    "import cv2 as cv\n",
    "import numpy as np\n",
    "\n",
    "img = cv.imread(r'coins.jpg', cv.IMREAD_COLOR)\n",
    "assert im is not None\n",
    "gray= cv.cvtColor(im, cv.COLOR_RGB2GRAY)\n",
    "\n",
    "circles = cv.HoughCircles(gray,cv.HOUGH_GRADIENT,1,50, param1=150,param2=20,minRadius=20,maxRadius=50)\n",
    "circles = np.uint16(np.around(circles))\n",
    "for i in circles[0,:]:\n",
    "    # draw the outer circle\n",
    "    cv.circle(img,(i[0],i[1]),i[2],(0,255,0),2)\n",
    "    # draw the center of the circle\n",
    "    cv.circle(img,(i[0],i[1]),2,(0,0,255),3)\n",
    "cv.imshow('detected circles',img)\n",
    "cv.waitKey(0)\n",
    "cv.destroyAllWindows()"
   ]
  },
  {
   "cell_type": "code",
   "execution_count": 23,
   "metadata": {},
   "outputs": [
    {
     "name": "stdout",
     "output_type": "stream",
     "text": [
      "x = 29.0, y = 109.0, scale = 1.0, orientation = 0.0, p1= (4, 76), p2 = (54, 141)\n"
     ]
    }
   ],
   "source": [
    "import cv2 as cv\n",
    "import numpy as np\n",
    "import matplotlib.pyplot as plt\n",
    "\n",
    "im = cv.imread(r'pic1.png', cv.IMREAD_REDUCED_GRAYSCALE_2)\n",
    "temp1 = cv.imread(r'templ.png', cv.IMREAD_REDUCED_GRAYSCALE_2)\n",
    "assert im is not None\n",
    "assert temp1 is not None\n",
    "\n",
    "im_edges = cv.Canny(im, 50, 250)\n",
    "temp1_edges = cv.Canny(temp1, 50, 250)\n",
    "alg = cv.createGeneralizedHoughGuil()\n",
    "alg.setTemplate(temp1_edges)\n",
    "alg.setAngleThresh(100000)\n",
    "alg.setScaleThresh(40000)\n",
    "alg.setPosThresh(1000)\n",
    "alg.setAngleStep(1)\n",
    "alg.setScaleStep(0.1)\n",
    "alg.setMinScale(0.9)\n",
    "alg.setMaxScale(1.1)\n",
    "positions , votes = alg.detect(im_edges)\n",
    "\n",
    "out = cv.cvtColor(im, cv.COLOR_BAYER_BG2BGR)\n",
    "for x, y, scale, orientation in positions[0]:\n",
    "    halfHeight = temp1.shape[0] / 2. * scale\n",
    "    halfWidth = temp1.shape[1] / 2. * scale\n",
    "    p1 = (int(x - halfWidth), int(y - halfHeight))\n",
    "    p2 = (int(x + halfWidth), int(y + halfHeight))\n",
    "    print(\"x = {}, y = {}, scale = {}, orientation = {}, p1= {}, p2 = {}\".format(x, y, scale, orientation, p1, p2))\n",
    "    cv.rectangle(out, p1, p2, (0, 0, 255))\n",
    "\n"
   ]
  }
 ],
 "metadata": {
  "interpreter": {
   "hash": "71a9e55ea9a4eb0ec0516cb2ecfe4cae1c555e7d5ef5085da43b83b5c34d74bd"
  },
  "kernelspec": {
   "display_name": "Python 3.10.2 64-bit (system)",
   "language": "python",
   "name": "python3"
  },
  "language_info": {
   "codemirror_mode": {
    "name": "ipython",
    "version": 3
   },
   "file_extension": ".py",
   "mimetype": "text/x-python",
   "name": "python",
   "nbconvert_exporter": "python",
   "pygments_lexer": "ipython3",
   "version": "3.10.2"
  },
  "orig_nbformat": 4
 },
 "nbformat": 4,
 "nbformat_minor": 2
}
