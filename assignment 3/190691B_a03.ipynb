{
 "cells": [
  {
   "cell_type": "code",
   "execution_count": 1,
   "metadata": {},
   "outputs": [
    {
     "data": {
      "image/png": "[encoded data removed]",
      "text/plain": [
       "<Figure size 432x288 with 3 Axes>"
      ]
     },
     "metadata": {
      "needs_background": "light"
     },
     "output_type": "display_data"
    }
   ],
   "source": [
    "\n",
    "\n",
    "import cv2 as cv\n",
    "import numpy as np\n",
    "import matplotlib.pyplot as plt\n",
    "\n",
    "hexnut_template = cv.imread('hexnut_template.png', cv.IMREAD_COLOR)\n",
    "squarenut_template =  cv.imread('squarenut_template.png', cv.IMREAD_COLOR)\n",
    "conveyor_f100 =  cv.imread('conveyor_f100.png', cv.IMREAD_COLOR)\n",
    "\n",
    "fig, ax = plt. subplots(1,3)\n",
    "ax[0].imshow(cv.cvtColor(hexnut_template, cv.COLOR_RGB2BGR))\n",
    "ax[1].imshow(cv.cvtColor(squarenut_template, cv.COLOR_RGB2BGR))\n",
    "ax[2].imshow(cv.cvtColor(conveyor_f100, cv.COLOR_RGB2BGR))\n",
    "plt.show()\n",
    "\n"
   ]
  },
  {
   "cell_type": "code",
   "execution_count": 2,
   "metadata": {},
   "outputs": [
    {
     "data": {
      "image/png": "[encoded data removed]",
      "text/plain": [
       "<Figure size 432x288 with 3 Axes>"
      ]
     },
     "metadata": {
      "needs_background": "light"
     },
     "output_type": "display_data"
    },
    {
     "name": "stdout",
     "output_type": "stream",
     "text": [
      "hexnut_template_gray threshold value is  20.0\n",
      "squarenut_template_gray threshold value is  20.0\n",
      "conveyor_f100_gray threshold value is  20.0\n"
     ]
    }
   ],
   "source": [
    "hexnut_template_gray = cv.cvtColor(hexnut_template, cv.COLOR_RGB2GRAY)\n",
    "squarenut_template_gray = cv.cvtColor(squarenut_template, cv.COLOR_RGB2GRAY)\n",
    "conveyor_f100_gray = cv.cvtColor(conveyor_f100, cv.COLOR_RGB2GRAY)\n",
    "\n",
    "ret1,th1 = cv.threshold(hexnut_template_gray,0,255,cv.THRESH_BINARY+cv.THRESH_OTSU)\n",
    "ret2,th2 = cv.threshold(squarenut_template_gray,0,255,cv.THRESH_BINARY+cv.THRESH_OTSU)\n",
    "ret3,th3 = cv.threshold(conveyor_f100_gray,0,255,cv.THRESH_BINARY+cv.THRESH_OTSU)\n",
    "\n",
    "fig, ax = plt. subplots(1,3)\n",
    "ax[0].imshow(cv.cvtColor(th1, cv.COLOR_RGB2BGR))\n",
    "ax[1].imshow(cv.cvtColor(th2, cv.COLOR_RGB2BGR))\n",
    "ax[2].imshow(cv.cvtColor(th3, cv.COLOR_RGB2BGR))\n",
    "plt.show()\n",
    "\n",
    "print(\"hexnut_template_gray threshold value is \", ret1)\n",
    "print(\"squarenut_template_gray threshold value is \", ret2)\n",
    "print(\"conveyor_f100_gray threshold value is \", ret3)\n",
    "\n",
    "\n"
   ]
  },
  {
   "cell_type": "code",
   "execution_count": 3,
   "metadata": {},
   "outputs": [
    {
     "data": {
      "image/png": "[encoded data removed]",
      "text/plain": [
       "<Figure size 432x288 with 3 Axes>"
      ]
     },
     "metadata": {
      "needs_background": "light"
     },
     "output_type": "display_data"
    }
   ],
   "source": [
    "kernel = np.ones((3,3),np.uint8)\n",
    "\n",
    "hexnut_template_gray_closing = cv.morphologyEx(th1, cv.MORPH_CLOSE, kernel)\n",
    "squarenut_template_gray_closing = cv.morphologyEx(th2, cv.MORPH_CLOSE, kernel)\n",
    "conveyor_f100_gray_closing = cv.morphologyEx(th3, cv.MORPH_CLOSE, kernel)\n",
    "\n",
    "fig, ax = plt. subplots(1,3)\n",
    "ax[0].imshow(cv.cvtColor(hexnut_template_gray_closing, cv.COLOR_RGB2BGR))\n",
    "ax[1].imshow(cv.cvtColor(squarenut_template_gray_closing, cv.COLOR_RGB2BGR))\n",
    "ax[2].imshow(cv.cvtColor(conveyor_f100_gray_closing, cv.COLOR_RGB2BGR))\n",
    "plt.show()"
   ]
  },
  {
   "cell_type": "code",
   "execution_count": 4,
   "metadata": {},
   "outputs": [
    {
     "name": "stdout",
     "output_type": "stream",
     "text": [
      "6\n",
      "[[1 1 1 ... 1 1 1]\n",
      " [1 1 1 ... 1 1 1]\n",
      " [1 1 1 ... 1 1 1]\n",
      " ...\n",
      " [1 1 1 ... 1 1 1]\n",
      " [1 1 1 ... 1 1 1]\n",
      " [1 1 1 ... 1 1 1]]\n",
      "[[    650     150     896     501   13938]\n",
      " [      0       0    1920    1080 2051818]\n",
      " [   1475     175      51      51    1961]\n",
      " [   1275     375      51      51    1961]\n",
      " [   1475     475      51      51    1961]\n",
      " [    675     575      51      51    1961]]\n",
      "[[1274.92050509  400.1106328 ]\n",
      " [ 956.24678115  540.8845999 ]\n",
      " [1500.          200.        ]\n",
      " [1300.          400.        ]\n",
      " [1500.          500.        ]\n",
      " [ 700.          600.        ]]\n"
     ]
    }
   ],
   "source": [
    "import numpy as np\n",
    "connectivity = 8\n",
    "retval, labels, stats, centroids = cv.connectedComponentsWithStats(th3, cv.CV_32S, connectivity )\n",
    "print(retval)\n",
    "print(labels)\n",
    "print(stats)\n",
    "print(centroids)\n"
   ]
  },
  {
   "cell_type": "code",
   "execution_count": 5,
   "metadata": {},
   "outputs": [
    {
     "data": {
      "text/plain": [
       "(1080, 1920)"
      ]
     },
     "execution_count": 5,
     "metadata": {},
     "output_type": "execute_result"
    }
   ],
   "source": [
    "th3.shape"
   ]
  },
  {
   "cell_type": "code",
   "execution_count": 6,
   "metadata": {},
   "outputs": [
    {
     "data": {
      "text/plain": [
       "(1080, 1920)"
      ]
     },
     "execution_count": 6,
     "metadata": {},
     "output_type": "execute_result"
    }
   ],
   "source": [
    "labels.shape"
   ]
  },
  {
   "cell_type": "code",
   "execution_count": 7,
   "metadata": {},
   "outputs": [],
   "source": [
    "contours1, hierarchy1\t=\tcv.findContours(th1, cv.RETR_TREE, cv.CHAIN_APPROX_SIMPLE)\n",
    "contours2, hierarchy2\t=\tcv.findContours(th2, cv.RETR_TREE, cv.CHAIN_APPROX_SIMPLE)\n",
    "contours3, hierarchy3\t=\tcv.findContours(th3, cv.RETR_TREE, cv.CHAIN_APPROX_SIMPLE)"
   ]
  },
  {
   "cell_type": "code",
   "execution_count": 8,
   "metadata": {},
   "outputs": [
    {
     "data": {
      "text/plain": [
       "array([[[219, 231, 239],\n",
       "        [219, 231, 239],\n",
       "        [219, 231, 239],\n",
       "        ...,\n",
       "        [219, 231, 239],\n",
       "        [219, 231, 239],\n",
       "        [219, 231, 239]],\n",
       "\n",
       "       [[219, 231, 239],\n",
       "        [219, 231, 239],\n",
       "        [219, 231, 239],\n",
       "        ...,\n",
       "        [219, 231, 239],\n",
       "        [219, 231, 239],\n",
       "        [219, 231, 239]],\n",
       "\n",
       "       [[219, 231, 239],\n",
       "        [219, 231, 239],\n",
       "        [219, 231, 239],\n",
       "        ...,\n",
       "        [219, 231, 239],\n",
       "        [219, 231, 239],\n",
       "        [219, 231, 239]],\n",
       "\n",
       "       ...,\n",
       "\n",
       "       [[219, 231, 239],\n",
       "        [219, 231, 239],\n",
       "        [219, 231, 239],\n",
       "        ...,\n",
       "        [219, 231, 239],\n",
       "        [219, 231, 239],\n",
       "        [219, 231, 239]],\n",
       "\n",
       "       [[219, 231, 239],\n",
       "        [219, 231, 239],\n",
       "        [219, 231, 239],\n",
       "        ...,\n",
       "        [219, 231, 239],\n",
       "        [219, 231, 239],\n",
       "        [219, 231, 239]],\n",
       "\n",
       "       [[219, 231, 239],\n",
       "        [219, 231, 239],\n",
       "        [219, 231, 239],\n",
       "        ...,\n",
       "        [219, 231, 239],\n",
       "        [219, 231, 239],\n",
       "        [219, 231, 239]]], dtype=uint8)"
      ]
     },
     "execution_count": 8,
     "metadata": {},
     "output_type": "execute_result"
    }
   ],
   "source": [
    "cv.drawContours(hexnut_template, contours1, 1, (0,255,0), 1)\n",
    "cv.drawContours(squarenut_template, contours2, 1, (0,255,0), 1)\n",
    "cv.drawContours(conveyor_f100, contours2,1, (0,255,0), 1)"
   ]
  },
  {
   "cell_type": "code",
   "execution_count": 9,
   "metadata": {},
   "outputs": [
    {
     "data": {
      "image/png": "[encoded data removed]",
      "text/plain": [
       "<Figure size 1080x1080 with 3 Axes>"
      ]
     },
     "metadata": {
      "needs_background": "light"
     },
     "output_type": "display_data"
    }
   ],
   "source": [
    "fig, ax = plt. subplots(1,3, figsize=(15,15))\n",
    "ax[0].imshow(cv.cvtColor(hexnut_template, cv.COLOR_RGB2BGR))\n",
    "ax[1].imshow(cv.cvtColor(squarenut_template, cv.COLOR_RGB2BGR))\n",
    "ax[2].imshow(cv.cvtColor(conveyor_f100, cv.COLOR_RGB2BGR))\n",
    "plt.show()"
   ]
  },
  {
   "cell_type": "code",
   "execution_count": 10,
   "metadata": {},
   "outputs": [
    {
     "name": "stdout",
     "output_type": "stream",
     "text": [
      "Can't receive frame (stream end?). Exiting.\n"
     ]
    }
   ],
   "source": [
    "cv.namedWindow('Conveyor', cv.WINDOW_NORMAL)\n",
    "cap = cv.VideoCapture('conveyor.mp4')\n",
    "f = 0\n",
    "frame_ = []      \n",
    "while cap.isOpened():                                    \n",
    "    ret, frame = cap.read()  \n",
    "    if not ret:\n",
    "        print(\"Can't receive frame (stream end?). Exiting.\")\n",
    "        break\n",
    "    frame_.append(frame.copy())\n",
    "\n",
    "    f += 1\n",
    "    text = 'Frame:' + str(f)\n",
    "    cv.putText(frame,text , (100, 100), cv.FONT_HERSHEY_COMPLEX, 1, (0,0,0), 1, cv.LINE_AA)\n",
    "    cv.imshow('Conveyor', frame)\n",
    "\n",
    "    if cv.waitKey(1) == ord('q'):  \n",
    "        break\n",
    "\n",
    "cap.release()\n",
    "cv.destroyAllWindows()"
   ]
  },
  {
   "cell_type": "code",
   "execution_count": 11,
   "metadata": {},
   "outputs": [
    {
     "data": {
      "image/png": "[encoded data removed]",
      "text/plain": [
       "<Figure size 1080x1080 with 2 Axes>"
      ]
     },
     "metadata": {
      "needs_background": "light"
     },
     "output_type": "display_data"
    },
    {
     "name": "stdout",
     "output_type": "stream",
     "text": [
      "0.03193585351388317\n",
      "0.031935853514169166\n",
      "0.03193585351409767\n",
      "0.031935853514079904\n",
      "0.12370592020839433\n",
      "2.220446049250313e-16\n",
      "0.00015490524765238156\n",
      "0.00015490524765238156\n",
      "0.026908962781344137\n",
      "1\n"
     ]
    }
   ],
   "source": [
    "img1 = cv.imread('hexnut_template.png',0)\n",
    "img2 = cv.imread('conveyor_f101.png',0)\n",
    "\n",
    "fig, ax = plt. subplots(1,2, figsize=(15,15))\n",
    "ax[0].imshow(cv.cvtColor(img1, cv.COLOR_RGB2BGR))\n",
    "ax[1].imshow(cv.cvtColor(img2, cv.COLOR_RGB2BGR))\n",
    "plt.show()\n",
    "\n",
    "\n",
    "ret, thresh = cv.threshold(img1, 127, 255,0)\n",
    "ret, thresh2 = cv.threshold(img2, 127, 255,0)\n",
    "contours,hierarchy = cv.findContours(thresh,2,1)\n",
    "cnt1 = contours[1]\n",
    "contours,hierarchy = cv.findContours(thresh2,2,1)\n",
    "match_count = 0\n",
    "for i in contours:\n",
    "    cnt2 = i\n",
    "    ret = cv.matchShapes(cnt1,cnt2,1,0.0)\n",
    "    print(ret)\n",
    "    if ret < 0.00001:\n",
    "        match_count+=1\n",
    "print( match_count )"
   ]
  },
  {
   "cell_type": "code",
   "execution_count": 12,
   "metadata": {},
   "outputs": [],
   "source": [
    "img1 = cv.imread('hexnut_template.png',0)\n",
    "img2 =  cv.imread('squarenut_template.png',0)\n",
    "img3 =  cv.imread('conveyor_f100.png',0)\n",
    "img4 = cv.imread('conveyor_f101.png',0)\n",
    "\n",
    "ret, thresh = cv.threshold(img1, 127, 255,0)\n",
    "ret, thresh2 = cv.threshold(img2, 127, 255,0)\n",
    "ret, thresh3 = cv.threshold(img3, 127, 255,0)\n",
    "ret, thresh4 = cv.threshold(img4, 127, 255,0)\n",
    "\n",
    "contours,hierarchy = cv.findContours(thresh,2,1)\n",
    "cnt1 = contours[1]\n",
    "contours,hierarchy = cv.findContours(thresh2,2,1)\n",
    "cnt2 = contours[1]\n",
    "\n",
    "contours,hierarchy = cv.findContours(thresh3,2,1)\n",
    "cnt3 = contours\n",
    "Hex_count = 0\n",
    "square_count = 0\n",
    "\n",
    "for i in cnt3:\n",
    "    ret1 = cv.matchShapes(i,cnt1,1,0.0)\n",
    "    if ret1 < 0.0001:\n",
    "        Hex_count+=1\n",
    "    ret2 = cv.matchShapes(i, cnt2, 1, 0.0)\n",
    "\n",
    "    if ret2 < 0.001:\n",
    "        square_count+=1\n",
    "cv.namedWindow('Conveyor', cv.WINDOW_NORMAL)\n",
    "img = img3.copy()\n",
    "cv.putText(img,\"Hexaganol:\" + str(Hex_count) , (100, 130), cv.FONT_HERSHEY_SIMPLEX, 1, (0,0,0), 2, cv.LINE_AA)\n",
    "cv.putText(img,\"square:\" + str(square_count) , (100, 100), cv.FONT_HERSHEY_SIMPLEX, 1, (0,0,0), 2, cv.LINE_AA)\n",
    "cv.imshow('Conveyor', img)\n",
    "cv.waitKey(0)\n",
    "cv.destroyAllWindows()\n",
    "\n",
    "\n",
    "contours,hierarchy = cv.findContours(thresh4,2,1)\n",
    "cnt4 = contours\n",
    "Hex_count = 0\n",
    "square_count = 0\n",
    "\n",
    "for i in cnt4:\n",
    "    ret1 = cv.matchShapes(i,cnt1,1,0.0)\n",
    "    if ret1 < 0.0001:\n",
    "        Hex_count+=1\n",
    "    ret2 = cv.matchShapes(i, cnt2, 1, 0.0)\n",
    "\n",
    "    if ret2 < 0.001:\n",
    "        square_count+=1\n",
    "cv.namedWindow('Conveyor', cv.WINDOW_NORMAL)\n",
    "img = img4.copy()\n",
    "cv.putText(img,\"Hexaganol:\" + str(Hex_count) , (100, 130), cv.FONT_HERSHEY_SIMPLEX, 1, (0,0,0), 2, cv.LINE_AA)\n",
    "cv.putText(img,\"square:\" + str(square_count) , (100, 100), cv.FONT_HERSHEY_SIMPLEX, 1, (0,0,0), 2, cv.LINE_AA)\n",
    "cv.imshow('Conveyor', img)\n",
    "cv.waitKey(0)\n",
    "cv.destroyAllWindows()"
   ]
  },
  {
   "cell_type": "code",
   "execution_count": 35,
   "metadata": {},
   "outputs": [],
   "source": [
    "# Yor code here.\n",
    "frame_array = []\n",
    "for fr in frame_[:]:\n",
    "    fr = cv.cvtColor(fr, cv.COLOR_BGR2GRAY)                                  # area of hexagonal: 6730,6800 +-100\n",
    "    ret, thresh = cv.threshold(fr, 127, 255,0)                              #area of square : 5200+-20\n",
    "    contours,hierarchy = cv.findContours(thresh,2,1)                           #area of inside circle: 1890\n",
    "    square_count = 0\n",
    "    Hex_count = 0\n",
    "    for con in contours:\n",
    "        area = cv.contourArea(con)\n",
    "        if (6715< area <6815):\n",
    "            # ret1 = cv.matchShapes(fr,cnt1,1,0.0)\n",
    "            # if ret1 < 0.0001:\n",
    "                Hex_count+=1\n",
    "        if (5150< area <5250):\n",
    "            # ret2 = cv.matchShapes(fr, cnt2, 1, 0.0)\n",
    "            # if ret2 < 0.001:\n",
    "                square_count+=1\n",
    "        # if not (6715< area <6815):break\n",
    "    img = fr.copy()\n",
    "    cv.putText(img,\"Hexaganol:\" + str(Hex_count) , (100, 130), cv.FONT_HERSHEY_SIMPLEX, 1, (0,0,0), 2, cv.LINE_AA)\n",
    "    cv.putText(img,\"square:\" + str(square_count) , (100, 100), cv.FONT_HERSHEY_SIMPLEX, 1, (0,0,0), 2, cv.LINE_AA)\n",
    "    frame_array.append(img)\n",
    "\n",
    "\n",
    "# Your code here\n",
    "\n",
    "\n",
    "out = cv.VideoWriter('./conveyor_result_indexno.mp4',cv.VideoWriter_fourcc(*'h264'), 30, (shape[1], shape[0]))\n",
    " \n",
    "for i in range(len(frame_array)):\n",
    "    cv.imshow('Frame', frame_array[i])\n",
    "    if cv.waitKey(1) == ord('q'):\n",
    "        break\n",
    "    out.write(frame_array[i])\n",
    "\n",
    "out.release()\n",
    "cv.destroyAllWindows()\n",
    "\n"
   ]
  }
 ],
 "metadata": {
  "interpreter": {
   "hash": "f5ca2acd7cfffe1ba430de162f968a242c109575471a8c149f67da86ddb07b1e"
  },
  "kernelspec": {
   "display_name": "Python 3.10.2 64-bit (system)",
   "language": "python",
   "name": "python3"
  },
  "language_info": {
   "codemirror_mode": {
    "name": "ipython",
    "version": 3
   },
   "file_extension": ".py",
   "mimetype": "text/x-python",
   "name": "python",
   "nbconvert_exporter": "python",
   "pygments_lexer": "ipython3",
   "version": "3.10.2"
  },
  "orig_nbformat": 4
 },
 "nbformat": 4,
 "nbformat_minor": 2
}
